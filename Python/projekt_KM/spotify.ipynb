{
 "cells": [
  {
   "cell_type": "markdown",
   "metadata": {},
   "source": [
    "Wczytujemy surowa baze i filtrujemy dla Polski\n"
   ]
  },
  {
   "cell_type": "code",
   "execution_count": 4,
   "metadata": {},
   "outputs": [
    {
     "name": "stdout",
     "output_type": "stream",
     "text": [
      "Zapisano przefiltrowane dane do poland/Database to calculate popularity Poland.csv\n"
     ]
    }
   ],
   "source": [
    "\n",
    "import pandas as pd\n",
    "\n",
    "# Zakładamy, że masz pełny plik danych w formacie CSV i znasz jego ścieżkę\n",
    "full_file_path = 'zrodla/Database to calculate popularity.csv' # Zastąp tym ścieżką do pełnego pliku\n",
    "\n",
    "# Wczytanie pełnego pliku CSV do DataFrame, przyjmując, że separator to średnik\n",
    "full_df = pd.read_csv(full_file_path, sep=',', low_memory=False)\n",
    "\n",
    "# Filtracja danych dla Polski\n",
    "full_df_poland = full_df[full_df['country'] == 'Poland']\n",
    "\n",
    "# Zapis przefiltrowanych danych do nowego pliku CSV\n",
    "output_full_csv_path = 'poland/Database to calculate popularity Poland.csv'\n",
    "full_df_poland.to_csv(output_full_csv_path, index=False)\n",
    "\n",
    "print(\"Zapisano przefiltrowane dane do\", output_full_csv_path)"
   ]
  },
  {
   "cell_type": "markdown",
   "metadata": {},
   "source": [
    "Wczytujemy wynikowa baze i filtrujemy dla Polski\n"
   ]
  },
  {
   "cell_type": "code",
   "execution_count": 5,
   "metadata": {},
   "outputs": [
    {
     "name": "stdout",
     "output_type": "stream",
     "text": [
      "Zapisano przefiltrowane dane do poland/Final database Poland.csv\n"
     ]
    }
   ],
   "source": [
    "import pandas as pd\n",
    "\n",
    "# Zakładamy, że masz pełny plik danych w formacie CSV i znasz jego ścieżkę\n",
    "full_file_path = 'zrodla/Final database.csv' # Zastąp tym ścieżką do pełnego pliku\n",
    "\n",
    "# Wczytanie pełnego pliku CSV do DataFrame, przyjmując, że separator to średnik\n",
    "full_df = pd.read_csv(full_file_path, sep=',', low_memory=False)\n",
    "\n",
    "# Filtracja danych dla Polski\n",
    "full_df_poland = full_df[full_df['Country'] == 'Poland']\n",
    "\n",
    "# Zapis przefiltrowanych danych do nowego pliku CSV\n",
    "output_full_csv_path = 'poland/Final database Poland.csv'\n",
    "full_df_poland.to_csv(output_full_csv_path, index=False)\n",
    "\n",
    "print(\"Zapisano przefiltrowane dane do\", output_full_csv_path)"
   ]
  },
  {
   "cell_type": "markdown",
   "metadata": {},
   "source": [
    "W pliku wynikowym w kolumnie Popu_max szukamy ktore utowry w Polsce doszly do pierszego miejsca na liscie i zapisujemy uri tych utowrow do tymczasowego pliku 'jedynki.csv'"
   ]
  },
  {
   "cell_type": "code",
   "execution_count": 6,
   "metadata": {},
   "outputs": [
    {
     "name": "stdout",
     "output_type": "stream",
     "text": [
      "Plik 'jedynki.csv' został zapisany w lokalizacji: tmp/jedynki.csv\n"
     ]
    }
   ],
   "source": [
    "import pandas as pd\n",
    "\n",
    "# Załaduj pełny plik 'Final database Poland.csv' (zakładając, że plik znajduje się w odpowiednim katalogu)\n",
    "file_path = 'poland/Final database Poland.csv'\n",
    "final_db_poland = pd.read_csv(file_path, sep=',', low_memory=False)\n",
    "\n",
    "# Sortuj dane według kolumny 'Popu_max' w porządku rosnącym\n",
    "sorted_data = final_db_poland.sort_values(by='Popu_max', ascending=True)\n",
    "\n",
    "# Wybierz rekordy, gdzie 'Popu_max' wynosi 1\n",
    "top_tracks = sorted_data[sorted_data['Popu_max'] == 1]\n",
    "\n",
    "# Wyodrębnij kolumnę 'Uri' i zapisz do nowego DataFrame\n",
    "top_tracks_uris = top_tracks[['Uri']].copy()\n",
    "\n",
    "# Zapisz wynikowy DataFrame do pliku CSV\n",
    "output_file_path = 'tmp/jedynki.csv'\n",
    "top_tracks_uris.to_csv(output_file_path, index=False)\n",
    "\n",
    "print(f\"Plik 'jedynki.csv' został zapisany w lokalizacji: {output_file_path}\")\n"
   ]
  },
  {
   "cell_type": "code",
   "execution_count": null,
   "metadata": {},
   "outputs": [],
   "source": [
    "import pandas as pd\n",
    "\n",
    "# Load the 'Database to calculate popularity Poland.csv' file\n",
    "# encoding='ISO-8859-1',\n",
    "# sep=',',\n",
    "popularity_db_path = 'poland/Database to calculate popularity Poland.csv' # Replace with actual path\n",
    "popularity_db_poland = pd.read_csv(popularity_db_path, low_memory=False)\n",
    "\n",
    "# Load the 'jedynki.csv' file to get the list of URIs\n",
    "jedynki_path = 'tmp/jedynki.csv' # Replace with actual path\n",
    "jedynki_uris = pd.read_csv(jedynki_path)\n",
    "\n",
    "# Loop through each URI in 'jedynki.csv'\n",
    "for uri in jedynki_uris['Uri']:\n",
    "    # Filter records in the popularity database for this URI\n",
    "    filtered_data = popularity_db_poland[popularity_db_poland['uri'] == uri].copy()\n",
    "\n",
    "    # Convert 'date' column to datetime for correct sorting using .loc\n",
    "    filtered_data.loc[:, 'date'] = pd.to_datetime(filtered_data['date'], format='%d/%m/%Y')\n",
    "    \n",
    "    \n",
    "\n",
    "    # Sort the filtered data by 'date' in ascending order\n",
    "    sorted_filtered_data = filtered_data.sort_values(by='date', ascending=True)\n",
    "\n",
    "    # Extract the URI part that comes after \"https://open.spotify.com/track/\"\n",
    "    uri_part = uri.split('/')[-1]\n",
    "\n",
    "    # Save the sorted and filtered data to a new CSV file\n",
    "    output_file_path = f'wyniki_uri/{uri_part}.csv'\n",
    "    sorted_filtered_data.to_csv(output_file_path, index=False)\n",
    "\n",
    "    # print(f\"File saved: {output_file_path}\")\n",
    "\n",
    "print(\"All files have been processed and saved.\")\n",
    "\n"
   ]
  },
  {
   "cell_type": "code",
   "execution_count": 17,
   "metadata": {},
   "outputs": [
    {
     "name": "stdout",
     "output_type": "stream",
     "text": [
      "Wykresy zostały wygenerowane i zapisane.\n"
     ]
    }
   ],
   "source": [
    "import pandas as pd\n",
    "import matplotlib.pyplot as plt\n",
    "import os\n",
    "\n",
    "# Ścieżka do katalogu z wynikami\n",
    "results_directory = 'wyniki_uri/'\n",
    "images_directory = 'images/'\n",
    "\n",
    "# Pętla przechodząca przez wszystkie pliki CSV w katalogu wyników\n",
    "for filename in os.listdir(results_directory):\n",
    "    if filename.endswith('.csv'):\n",
    "        # Ścieżka do konkretnego pliku CSV\n",
    "        file_path = os.path.join(results_directory, filename)\n",
    "\n",
    "        # Wczytanie danych z pliku CSV\n",
    "        data = pd.read_csv(file_path)\n",
    "\n",
    "        # Konwersja kolumny 'date' na format datetime\n",
    "        data['date'] = pd.to_datetime(data['date'], format='%Y-%m-%d')\n",
    "\n",
    "        # Rysowanie wykresu liniowego\n",
    "        plt.figure(figsize=(10, 5))\n",
    "\n",
    "        # Ustawienie kolorów tła i osi\n",
    "        plt.gca().set_facecolor('#1a1a1a')\n",
    "        plt.gca().tick_params(axis='x', colors='lightgray')\n",
    "        plt.gca().tick_params(axis='y', colors='lightgray')\n",
    "        plt.gca().spines['bottom'].set_color('white')\n",
    "        plt.gca().spines['top'].set_color('#1a1a1a')  # Ustawienie na kolor tła, aby ukryć\n",
    "        plt.gca().spines['right'].set_color('#1a1a1a') # Ustawienie na kolor tła, aby ukryć\n",
    "        plt.gca().spines['left'].set_color('white')\n",
    "\n",
    "        # Wykres liniowy\n",
    "        plt.plot(data['date'], data['position'], marker='o', linestyle='-', color='#49f05b')\n",
    "\n",
    "        # Obrócenie etykiet daty o 45 stopni i ustawienie ich koloru\n",
    "        plt.xticks(rotation=45, color='white')\n",
    "        plt.yticks(color='white')\n",
    "\n",
    "        # Odwrócenie osi Y, aby pozycja 1 była na górze\n",
    "        plt.gca().invert_yaxis()\n",
    "\n",
    "        # Ograniczenie liczby etykiet daty na osi X do 20, jeśli jest ich więcej\n",
    "        if len(data['date']) > 20:\n",
    "            plt.gca().xaxis.set_major_locator(plt.MaxNLocator(20))\n",
    "\n",
    "        plt.ylabel('Pozycja', color='white')\n",
    "\n",
    "        # Dodanie tytułu z informacjami o utworze\n",
    "        title = data['title'].iloc[0] if 'title' in data.columns else \"Brak tytułu\"\n",
    "        artist = data['artist'].iloc[0] if 'artist' in data.columns else \"Brak artysty\"\n",
    "        track = data['track'].iloc[0] if 'track' in data.columns else \"Brak ścieżki\"\n",
    "        plt.title(f'Track: {track}\\nTitle: {title}\\nArtist: {artist}', color='white')\n",
    "\n",
    "        # Zapisanie wykresu\n",
    "        plt.savefig(f'{images_directory}/{filename}.png', facecolor='#1a1a1a')\n",
    "\n",
    "        # Zamykanie wykresu\n",
    "        plt.close()\n",
    "\n",
    "print(\"Wykresy zostały wygenerowane i zapisane.\")\n"
   ]
  }
 ],
 "metadata": {
  "kernelspec": {
   "display_name": "Python 3",
   "language": "python",
   "name": "python3"
  },
  "language_info": {
   "codemirror_mode": {
    "name": "ipython",
    "version": 3
   },
   "file_extension": ".py",
   "mimetype": "text/x-python",
   "name": "python",
   "nbconvert_exporter": "python",
   "pygments_lexer": "ipython3",
   "version": "3.11.4"
  }
 },
 "nbformat": 4,
 "nbformat_minor": 2
}
