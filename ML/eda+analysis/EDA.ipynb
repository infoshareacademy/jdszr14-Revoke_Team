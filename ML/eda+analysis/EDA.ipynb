{
 "cells": [
  {
   "cell_type": "markdown",
   "metadata": {},
   "source": [
    "Cel: wykrycie sytuacji w której pożar zagraża ludziom\n",
    "\n",
    "Stakeholder: straż pożarna pracująca nad systemem wczesnego ostrzegania oraz\n",
    "\n",
    "reagowania na zagrożenia pożarowe"
   ]
  },
  {
   "cell_type": "code",
   "execution_count": 4,
   "metadata": {},
   "outputs": [],
   "source": [
    "import urllib.request\n",
    "import datetime\n",
    "import numpy as np\n",
    "import pandas as pd\n",
    "import seaborn as sns\n",
    "import json\n",
    "from scipy import stats\n",
    "from matplotlib.patches import Circle, Wedge, Polygon\n",
    "from matplotlib.collections import PatchCollection\n",
    "import matplotlib.pyplot as plt"
   ]
  },
  {
   "cell_type": "code",
   "execution_count": 5,
   "metadata": {},
   "outputs": [],
   "source": [
    "data_raw = pd.read_csv('Fire-Incidents.csv')"
   ]
  },
  {
   "cell_type": "code",
   "execution_count": 6,
   "metadata": {},
   "outputs": [
    {
     "data": {
      "text/html": [
       "<div>\n",
       "<style scoped>\n",
       "    .dataframe tbody tr th:only-of-type {\n",
       "        vertical-align: middle;\n",
       "    }\n",
       "\n",
       "    .dataframe tbody tr th {\n",
       "        vertical-align: top;\n",
       "    }\n",
       "\n",
       "    .dataframe thead th {\n",
       "        text-align: right;\n",
       "    }\n",
       "</style>\n",
       "<table border=\"1\" class=\"dataframe\">\n",
       "  <thead>\n",
       "    <tr style=\"text-align: right;\">\n",
       "      <th></th>\n",
       "      <th>Area_of_Origin</th>\n",
       "      <th>Business_Impact</th>\n",
       "      <th>Civilian_Casualties</th>\n",
       "      <th>Count_of_Persons_Rescued</th>\n",
       "      <th>Estimated_Dollar_Loss</th>\n",
       "      <th>Estimated_Number_Of_Persons_Displaced</th>\n",
       "      <th>Ext_agent_app_or_defer_time</th>\n",
       "      <th>Extent_Of_Fire</th>\n",
       "      <th>Fire_Alarm_System_Impact_on_Evacuation</th>\n",
       "      <th>Fire_Alarm_System_Operation</th>\n",
       "      <th>...</th>\n",
       "      <th>Longitude</th>\n",
       "      <th>Material_First_Ignited</th>\n",
       "      <th>Method_Of_Fire_Control</th>\n",
       "      <th>Possible_Cause</th>\n",
       "      <th>Property_Use</th>\n",
       "      <th>Smoke_Alarm_at_Fire_Origin_Alarm_Failure</th>\n",
       "      <th>Smoke_Alarm_at_Fire_Origin_Alarm_Type</th>\n",
       "      <th>Status_of_Fire_On_Arrival</th>\n",
       "      <th>TFS_Alarm_Time</th>\n",
       "      <th>TFS_Arrival_Time</th>\n",
       "    </tr>\n",
       "  </thead>\n",
       "  <tbody>\n",
       "    <tr>\n",
       "      <th>0</th>\n",
       "      <td>Porch or Balcony</td>\n",
       "      <td>No business interruption</td>\n",
       "      <td>0</td>\n",
       "      <td>86</td>\n",
       "      <td>3000</td>\n",
       "      <td>0</td>\n",
       "      <td>2018-08-24T17:06:26</td>\n",
       "      <td>Confined to object of origin</td>\n",
       "      <td>Not applicable: Occupant(s) first alerted by o...</td>\n",
       "      <td>Fire alarm system did not operate</td>\n",
       "      <td>...</td>\n",
       "      <td>-79.412479</td>\n",
       "      <td>Undetermined (formerly 98)</td>\n",
       "      <td>Extinguished by fire department</td>\n",
       "      <td>Undetermined</td>\n",
       "      <td>Multi-Unit Dwelling - Over 12 Units</td>\n",
       "      <td>Not applicable: Alarm operated OR presence/ope...</td>\n",
       "      <td>Hardwired (standalone)</td>\n",
       "      <td>Fire with smoke showing only - including vehic...</td>\n",
       "      <td>2018-08-24T16:49:36</td>\n",
       "      <td>2018-08-24T16:54:09</td>\n",
       "    </tr>\n",
       "    <tr>\n",
       "      <th>1</th>\n",
       "      <td>Cooking Area or Kitchen</td>\n",
       "      <td>Undetermined</td>\n",
       "      <td>0</td>\n",
       "      <td>28</td>\n",
       "      <td>50000</td>\n",
       "      <td>28</td>\n",
       "      <td>2018-11-24T07:19:00</td>\n",
       "      <td>Confined to part of room/area of origin</td>\n",
       "      <td>Not applicable: Occupant(s) first alerted by o...</td>\n",
       "      <td>Fire alarm system operated</td>\n",
       "      <td>...</td>\n",
       "      <td>-79.530419</td>\n",
       "      <td>Plastic</td>\n",
       "      <td>Extinguished by occupant</td>\n",
       "      <td>Under Investigation</td>\n",
       "      <td>Infirmary</td>\n",
       "      <td>Not applicable: Alarm operated OR presence/ope...</td>\n",
       "      <td>Interconnected</td>\n",
       "      <td>Fire extinguished prior to arrival</td>\n",
       "      <td>2018-11-24T07:09:12</td>\n",
       "      <td>2018-11-24T07:14:23</td>\n",
       "    </tr>\n",
       "    <tr>\n",
       "      <th>2</th>\n",
       "      <td>Living Area (e.g. living, TV, recreation, etc)</td>\n",
       "      <td>Not applicable (not a business)</td>\n",
       "      <td>1</td>\n",
       "      <td>16</td>\n",
       "      <td>1000000</td>\n",
       "      <td>130</td>\n",
       "      <td>2017-02-09T18:02:13</td>\n",
       "      <td>Spread beyond room of origin, same floor</td>\n",
       "      <td>Some persons (at risk) evacuated as a result o...</td>\n",
       "      <td>Fire alarm system operated</td>\n",
       "      <td>...</td>\n",
       "      <td>-79.373460</td>\n",
       "      <td>Undetermined (formerly 98)</td>\n",
       "      <td>Extinguished by fire department</td>\n",
       "      <td>Undetermined</td>\n",
       "      <td>Multi-Unit Dwelling - Over 12 Units</td>\n",
       "      <td>Not applicable: Alarm operated OR presence/ope...</td>\n",
       "      <td>Hardwired (standalone)</td>\n",
       "      <td>Flames showing from small area (one storey or ...</td>\n",
       "      <td>2017-02-09T17:45:07</td>\n",
       "      <td>2017-02-09T17:48:49</td>\n",
       "    </tr>\n",
       "    <tr>\n",
       "      <th>3</th>\n",
       "      <td>Undetermined  (formerly 98)</td>\n",
       "      <td>May not resume operations</td>\n",
       "      <td>0</td>\n",
       "      <td>12</td>\n",
       "      <td>1000000</td>\n",
       "      <td>14</td>\n",
       "      <td>2012-10-30T00:52:04</td>\n",
       "      <td>Entire Structure</td>\n",
       "      <td>Undetermined</td>\n",
       "      <td>Fire alarm system operation undetermined</td>\n",
       "      <td>...</td>\n",
       "      <td>-79.393700</td>\n",
       "      <td>Undetermined (formerly 98)</td>\n",
       "      <td>Extinguished by fire department</td>\n",
       "      <td>Undetermined</td>\n",
       "      <td>Clothing Store, Accessories, fur</td>\n",
       "      <td>Not applicable: Alarm operated OR presence/ope...</td>\n",
       "      <td>Type undetermined</td>\n",
       "      <td>Flames showing from large area (more than one ...</td>\n",
       "      <td>2012-10-30T00:42:01</td>\n",
       "      <td>2012-10-30T00:44:58</td>\n",
       "    </tr>\n",
       "    <tr>\n",
       "      <th>4</th>\n",
       "      <td>Sleeping Area or Bedroom (inc. patients room, ...</td>\n",
       "      <td>Not applicable (not a business)</td>\n",
       "      <td>8</td>\n",
       "      <td>11</td>\n",
       "      <td>125000</td>\n",
       "      <td>2</td>\n",
       "      <td>2018-07-08T04:35:00</td>\n",
       "      <td>Spread beyond room of origin, same floor</td>\n",
       "      <td>Some persons (at risk) evacuated as a result o...</td>\n",
       "      <td>Fire alarm system operated</td>\n",
       "      <td>...</td>\n",
       "      <td>-79.511539</td>\n",
       "      <td>Bedding</td>\n",
       "      <td>Extinguished by fire department</td>\n",
       "      <td>Suspected Arson</td>\n",
       "      <td>Multi-Unit Dwelling - Over 12 Units</td>\n",
       "      <td>Not applicable: Alarm operated OR presence/ope...</td>\n",
       "      <td>Interconnected</td>\n",
       "      <td>Fire with no evidence from street</td>\n",
       "      <td>2018-07-08T04:08:50</td>\n",
       "      <td>2018-07-08T04:13:54</td>\n",
       "    </tr>\n",
       "  </tbody>\n",
       "</table>\n",
       "<p>5 rows × 27 columns</p>\n",
       "</div>"
      ],
      "text/plain": [
       "                                      Area_of_Origin  \\\n",
       "0                                   Porch or Balcony   \n",
       "1                            Cooking Area or Kitchen   \n",
       "2     Living Area (e.g. living, TV, recreation, etc)   \n",
       "3                        Undetermined  (formerly 98)   \n",
       "4  Sleeping Area or Bedroom (inc. patients room, ...   \n",
       "\n",
       "                   Business_Impact  Civilian_Casualties  \\\n",
       "0         No business interruption                    0   \n",
       "1                     Undetermined                    0   \n",
       "2  Not applicable (not a business)                    1   \n",
       "3        May not resume operations                    0   \n",
       "4  Not applicable (not a business)                    8   \n",
       "\n",
       "   Count_of_Persons_Rescued  Estimated_Dollar_Loss  \\\n",
       "0                        86                   3000   \n",
       "1                        28                  50000   \n",
       "2                        16                1000000   \n",
       "3                        12                1000000   \n",
       "4                        11                 125000   \n",
       "\n",
       "   Estimated_Number_Of_Persons_Displaced Ext_agent_app_or_defer_time  \\\n",
       "0                                      0         2018-08-24T17:06:26   \n",
       "1                                     28         2018-11-24T07:19:00   \n",
       "2                                    130         2017-02-09T18:02:13   \n",
       "3                                     14         2012-10-30T00:52:04   \n",
       "4                                      2         2018-07-08T04:35:00   \n",
       "\n",
       "                             Extent_Of_Fire  \\\n",
       "0              Confined to object of origin   \n",
       "1   Confined to part of room/area of origin   \n",
       "2  Spread beyond room of origin, same floor   \n",
       "3                          Entire Structure   \n",
       "4  Spread beyond room of origin, same floor   \n",
       "\n",
       "              Fire_Alarm_System_Impact_on_Evacuation  \\\n",
       "0  Not applicable: Occupant(s) first alerted by o...   \n",
       "1  Not applicable: Occupant(s) first alerted by o...   \n",
       "2  Some persons (at risk) evacuated as a result o...   \n",
       "3                                       Undetermined   \n",
       "4  Some persons (at risk) evacuated as a result o...   \n",
       "\n",
       "                Fire_Alarm_System_Operation  ...  Longitude  \\\n",
       "0         Fire alarm system did not operate  ... -79.412479   \n",
       "1                Fire alarm system operated  ... -79.530419   \n",
       "2                Fire alarm system operated  ... -79.373460   \n",
       "3  Fire alarm system operation undetermined  ... -79.393700   \n",
       "4                Fire alarm system operated  ... -79.511539   \n",
       "\n",
       "       Material_First_Ignited           Method_Of_Fire_Control  \\\n",
       "0  Undetermined (formerly 98)  Extinguished by fire department   \n",
       "1                     Plastic         Extinguished by occupant   \n",
       "2  Undetermined (formerly 98)  Extinguished by fire department   \n",
       "3  Undetermined (formerly 98)  Extinguished by fire department   \n",
       "4                     Bedding  Extinguished by fire department   \n",
       "\n",
       "        Possible_Cause                         Property_Use  \\\n",
       "0         Undetermined  Multi-Unit Dwelling - Over 12 Units   \n",
       "1  Under Investigation                            Infirmary   \n",
       "2         Undetermined  Multi-Unit Dwelling - Over 12 Units   \n",
       "3         Undetermined     Clothing Store, Accessories, fur   \n",
       "4      Suspected Arson  Multi-Unit Dwelling - Over 12 Units   \n",
       "\n",
       "            Smoke_Alarm_at_Fire_Origin_Alarm_Failure  \\\n",
       "0  Not applicable: Alarm operated OR presence/ope...   \n",
       "1  Not applicable: Alarm operated OR presence/ope...   \n",
       "2  Not applicable: Alarm operated OR presence/ope...   \n",
       "3  Not applicable: Alarm operated OR presence/ope...   \n",
       "4  Not applicable: Alarm operated OR presence/ope...   \n",
       "\n",
       "   Smoke_Alarm_at_Fire_Origin_Alarm_Type  \\\n",
       "0                 Hardwired (standalone)   \n",
       "1                         Interconnected   \n",
       "2                 Hardwired (standalone)   \n",
       "3                      Type undetermined   \n",
       "4                         Interconnected   \n",
       "\n",
       "                           Status_of_Fire_On_Arrival       TFS_Alarm_Time  \\\n",
       "0  Fire with smoke showing only - including vehic...  2018-08-24T16:49:36   \n",
       "1                 Fire extinguished prior to arrival  2018-11-24T07:09:12   \n",
       "2  Flames showing from small area (one storey or ...  2017-02-09T17:45:07   \n",
       "3  Flames showing from large area (more than one ...  2012-10-30T00:42:01   \n",
       "4                  Fire with no evidence from street  2018-07-08T04:08:50   \n",
       "\n",
       "      TFS_Arrival_Time  \n",
       "0  2018-08-24T16:54:09  \n",
       "1  2018-11-24T07:14:23  \n",
       "2  2017-02-09T17:48:49  \n",
       "3  2012-10-30T00:44:58  \n",
       "4  2018-07-08T04:13:54  \n",
       "\n",
       "[5 rows x 27 columns]"
      ]
     },
     "execution_count": 6,
     "metadata": {},
     "output_type": "execute_result"
    }
   ],
   "source": [
    "data_raw.head()"
   ]
  },
  {
   "cell_type": "code",
   "execution_count": 7,
   "metadata": {},
   "outputs": [
    {
     "name": "stdout",
     "output_type": "stream",
     "text": [
      "<class 'pandas.core.frame.DataFrame'>\n",
      "RangeIndex: 11214 entries, 0 to 11213\n",
      "Data columns (total 27 columns):\n",
      " #   Column                                    Non-Null Count  Dtype  \n",
      "---  ------                                    --------------  -----  \n",
      " 0   Area_of_Origin                            11214 non-null  object \n",
      " 1   Business_Impact                           11214 non-null  object \n",
      " 2   Civilian_Casualties                       11214 non-null  int64  \n",
      " 3   Count_of_Persons_Rescued                  11214 non-null  int64  \n",
      " 4   Estimated_Dollar_Loss                     11214 non-null  int64  \n",
      " 5   Estimated_Number_Of_Persons_Displaced     11214 non-null  int64  \n",
      " 6   Ext_agent_app_or_defer_time               11214 non-null  object \n",
      " 7   Extent_Of_Fire                            11214 non-null  object \n",
      " 8   Fire_Alarm_System_Impact_on_Evacuation    11214 non-null  object \n",
      " 9   Fire_Alarm_System_Operation               11214 non-null  object \n",
      " 10  Fire_Alarm_System_Presence                11214 non-null  object \n",
      " 11  Fire_Under_Control_Time                   11214 non-null  object \n",
      " 12  Ignition_Source                           11214 non-null  object \n",
      " 13  Incident_Station_Area                     11214 non-null  int64  \n",
      " 14  Incident_Ward                             11181 non-null  float64\n",
      " 15  Last_TFS_Unit_Clear_Time                  11214 non-null  object \n",
      " 16  Latitude                                  11214 non-null  float64\n",
      " 17  Longitude                                 11214 non-null  float64\n",
      " 18  Material_First_Ignited                    11214 non-null  object \n",
      " 19  Method_Of_Fire_Control                    11214 non-null  object \n",
      " 20  Possible_Cause                            11214 non-null  object \n",
      " 21  Property_Use                              11214 non-null  object \n",
      " 22  Smoke_Alarm_at_Fire_Origin_Alarm_Failure  11214 non-null  object \n",
      " 23  Smoke_Alarm_at_Fire_Origin_Alarm_Type     11214 non-null  object \n",
      " 24  Status_of_Fire_On_Arrival                 11214 non-null  object \n",
      " 25  TFS_Alarm_Time                            11214 non-null  object \n",
      " 26  TFS_Arrival_Time                          11214 non-null  object \n",
      "dtypes: float64(3), int64(5), object(19)\n",
      "memory usage: 2.3+ MB\n"
     ]
    }
   ],
   "source": [
    "data_raw.info()"
   ]
  },
  {
   "cell_type": "code",
   "execution_count": 8,
   "metadata": {},
   "outputs": [],
   "source": [
    "clean_data = pd.read_excel('clean_data.xlsx')"
   ]
  },
  {
   "cell_type": "code",
   "execution_count": 9,
   "metadata": {},
   "outputs": [
    {
     "data": {
      "text/plain": [
       "array(['Not applicable: Occupant(s) first alerted by other means',\n",
       "       'Some persons (at risk) evacuated as a result of hearing fire alarm system',\n",
       "       'Undetermined',\n",
       "       'Not applicable: No fire alarm system, no persons present',\n",
       "       'All persons (at risk of injury) evacuated as a result of hearing fire alarm system',\n",
       "       'No one (at risk) evacuated as a result of hearing fire alarm system',\n",
       "       'Fire Alarm system operated but failed to alert occupant(s)'],\n",
       "      dtype=object)"
      ]
     },
     "execution_count": 9,
     "metadata": {},
     "output_type": "execute_result"
    }
   ],
   "source": [
    "clean_data['Fire_Alarm_System_Impact_on_Evacuation'].unique()"
   ]
  },
  {
   "cell_type": "code",
   "execution_count": 10,
   "metadata": {},
   "outputs": [
    {
     "name": "stdout",
     "output_type": "stream",
     "text": [
      "<class 'pandas.core.frame.DataFrame'>\n",
      "RangeIndex: 11214 entries, 0 to 11213\n",
      "Data columns (total 16 columns):\n",
      " #   Column                                  Non-Null Count  Dtype         \n",
      "---  ------                                  --------------  -----         \n",
      " 0   Civilian_Casualties                     11214 non-null  int64         \n",
      " 1   Count_of_Persons_Rescued                11214 non-null  int64         \n",
      " 2   Estimated_Dollar_Loss                   11214 non-null  int64         \n",
      " 3   Estimated_Number_Of_Persons_Displaced   11214 non-null  int64         \n",
      " 4   Fire_Alarm_System_Impact_on_Evacuation  11214 non-null  object        \n",
      " 5   Fire_Alarm_System_Operation             11214 non-null  object        \n",
      " 6   Fire_Alarm_System_Presence              11214 non-null  object        \n",
      " 7   Fire_Under_Control_Time                 11214 non-null  datetime64[ns]\n",
      " 8   Ignition_Source                         11214 non-null  object        \n",
      " 9   Last_TFS_Unit_Clear_Time                11214 non-null  datetime64[ns]\n",
      " 10  Latitude                                11214 non-null  float64       \n",
      " 11  Longitude                               11214 non-null  float64       \n",
      " 12  Possible_Cause                          11214 non-null  object        \n",
      " 13  Property_Use                            11214 non-null  object        \n",
      " 14  TFS_Alarm_Time                          11214 non-null  datetime64[ns]\n",
      " 15  TFS_Arrival_Time                        11214 non-null  datetime64[ns]\n",
      "dtypes: datetime64[ns](4), float64(2), int64(4), object(6)\n",
      "memory usage: 1.4+ MB\n"
     ]
    }
   ],
   "source": [
    "clean_data.info()"
   ]
  },
  {
   "cell_type": "code",
   "execution_count": 11,
   "metadata": {},
   "outputs": [
    {
     "data": {
      "text/html": [
       "<div>\n",
       "<style scoped>\n",
       "    .dataframe tbody tr th:only-of-type {\n",
       "        vertical-align: middle;\n",
       "    }\n",
       "\n",
       "    .dataframe tbody tr th {\n",
       "        vertical-align: top;\n",
       "    }\n",
       "\n",
       "    .dataframe thead th {\n",
       "        text-align: right;\n",
       "    }\n",
       "</style>\n",
       "<table border=\"1\" class=\"dataframe\">\n",
       "  <thead>\n",
       "    <tr style=\"text-align: right;\">\n",
       "      <th></th>\n",
       "      <th>Civilian_Casualties</th>\n",
       "      <th>Estimated_Dollar_Loss</th>\n",
       "      <th>Fire_Alarm_System_Impact_on_Evacuation</th>\n",
       "      <th>Fire_Alarm_System_Operation</th>\n",
       "      <th>Fire_Alarm_System_Presence</th>\n",
       "      <th>Smoke_Alarm_at_Fire_Origin_Alarm_Failure</th>\n",
       "      <th>Smoke_Alarm_at_Fire_Origin_Alarm_Type</th>\n",
       "    </tr>\n",
       "  </thead>\n",
       "  <tbody>\n",
       "    <tr>\n",
       "      <th>0</th>\n",
       "      <td>0</td>\n",
       "      <td>3000</td>\n",
       "      <td>Not applicable: Occupant(s) first alerted by o...</td>\n",
       "      <td>Fire alarm system did not operate</td>\n",
       "      <td>Fire alarm system present</td>\n",
       "      <td>Not applicable: Alarm operated OR presence/ope...</td>\n",
       "      <td>Hardwired (standalone)</td>\n",
       "    </tr>\n",
       "    <tr>\n",
       "      <th>1</th>\n",
       "      <td>0</td>\n",
       "      <td>50000</td>\n",
       "      <td>Not applicable: Occupant(s) first alerted by o...</td>\n",
       "      <td>Fire alarm system operated</td>\n",
       "      <td>Fire alarm system present</td>\n",
       "      <td>Not applicable: Alarm operated OR presence/ope...</td>\n",
       "      <td>Interconnected</td>\n",
       "    </tr>\n",
       "    <tr>\n",
       "      <th>2</th>\n",
       "      <td>1</td>\n",
       "      <td>1000000</td>\n",
       "      <td>Some persons (at risk) evacuated as a result o...</td>\n",
       "      <td>Fire alarm system operated</td>\n",
       "      <td>Fire alarm system present</td>\n",
       "      <td>Not applicable: Alarm operated OR presence/ope...</td>\n",
       "      <td>Hardwired (standalone)</td>\n",
       "    </tr>\n",
       "    <tr>\n",
       "      <th>3</th>\n",
       "      <td>0</td>\n",
       "      <td>1000000</td>\n",
       "      <td>Undetermined</td>\n",
       "      <td>Fire alarm system operation undetermined</td>\n",
       "      <td>Undetermined</td>\n",
       "      <td>Not applicable: Alarm operated OR presence/ope...</td>\n",
       "      <td>Type undetermined</td>\n",
       "    </tr>\n",
       "    <tr>\n",
       "      <th>4</th>\n",
       "      <td>8</td>\n",
       "      <td>125000</td>\n",
       "      <td>Some persons (at risk) evacuated as a result o...</td>\n",
       "      <td>Fire alarm system operated</td>\n",
       "      <td>Fire alarm system present</td>\n",
       "      <td>Not applicable: Alarm operated OR presence/ope...</td>\n",
       "      <td>Interconnected</td>\n",
       "    </tr>\n",
       "    <tr>\n",
       "      <th>...</th>\n",
       "      <td>...</td>\n",
       "      <td>...</td>\n",
       "      <td>...</td>\n",
       "      <td>...</td>\n",
       "      <td>...</td>\n",
       "      <td>...</td>\n",
       "      <td>...</td>\n",
       "    </tr>\n",
       "    <tr>\n",
       "      <th>11209</th>\n",
       "      <td>0</td>\n",
       "      <td>0</td>\n",
       "      <td>All persons (at risk of injury) evacuated as a...</td>\n",
       "      <td>Fire alarm system operated</td>\n",
       "      <td>Fire alarm system present</td>\n",
       "      <td>Not applicable: Alarm operated OR presence/ope...</td>\n",
       "      <td>Hardwired (standalone)</td>\n",
       "    </tr>\n",
       "    <tr>\n",
       "      <th>11210</th>\n",
       "      <td>0</td>\n",
       "      <td>1000</td>\n",
       "      <td>All persons (at risk of injury) evacuated as a...</td>\n",
       "      <td>Fire alarm system operated</td>\n",
       "      <td>Fire alarm system present</td>\n",
       "      <td>Not applicable: Alarm operated OR presence/ope...</td>\n",
       "      <td>Interconnected</td>\n",
       "    </tr>\n",
       "    <tr>\n",
       "      <th>11211</th>\n",
       "      <td>0</td>\n",
       "      <td>0</td>\n",
       "      <td>All persons (at risk of injury) evacuated as a...</td>\n",
       "      <td>Fire alarm system operated</td>\n",
       "      <td>Fire alarm system present</td>\n",
       "      <td>Not applicable: Alarm operated OR presence/ope...</td>\n",
       "      <td>Interconnected</td>\n",
       "    </tr>\n",
       "    <tr>\n",
       "      <th>11212</th>\n",
       "      <td>6</td>\n",
       "      <td>100000</td>\n",
       "      <td>All persons (at risk of injury) evacuated as a...</td>\n",
       "      <td>Fire alarm system operated</td>\n",
       "      <td>Fire alarm system present</td>\n",
       "      <td>Not applicable: Alarm operated OR presence/ope...</td>\n",
       "      <td>Battery operated</td>\n",
       "    </tr>\n",
       "    <tr>\n",
       "      <th>11213</th>\n",
       "      <td>0</td>\n",
       "      <td>100</td>\n",
       "      <td>Not applicable: Occupant(s) first alerted by o...</td>\n",
       "      <td>Fire alarm system did not operate</td>\n",
       "      <td>Fire alarm system present</td>\n",
       "      <td>Not applicable: Alarm operated OR presence/ope...</td>\n",
       "      <td>Type undetermined</td>\n",
       "    </tr>\n",
       "  </tbody>\n",
       "</table>\n",
       "<p>11214 rows × 7 columns</p>\n",
       "</div>"
      ],
      "text/plain": [
       "       Civilian_Casualties  Estimated_Dollar_Loss  \\\n",
       "0                        0                   3000   \n",
       "1                        0                  50000   \n",
       "2                        1                1000000   \n",
       "3                        0                1000000   \n",
       "4                        8                 125000   \n",
       "...                    ...                    ...   \n",
       "11209                    0                      0   \n",
       "11210                    0                   1000   \n",
       "11211                    0                      0   \n",
       "11212                    6                 100000   \n",
       "11213                    0                    100   \n",
       "\n",
       "                  Fire_Alarm_System_Impact_on_Evacuation  \\\n",
       "0      Not applicable: Occupant(s) first alerted by o...   \n",
       "1      Not applicable: Occupant(s) first alerted by o...   \n",
       "2      Some persons (at risk) evacuated as a result o...   \n",
       "3                                           Undetermined   \n",
       "4      Some persons (at risk) evacuated as a result o...   \n",
       "...                                                  ...   \n",
       "11209  All persons (at risk of injury) evacuated as a...   \n",
       "11210  All persons (at risk of injury) evacuated as a...   \n",
       "11211  All persons (at risk of injury) evacuated as a...   \n",
       "11212  All persons (at risk of injury) evacuated as a...   \n",
       "11213  Not applicable: Occupant(s) first alerted by o...   \n",
       "\n",
       "                    Fire_Alarm_System_Operation Fire_Alarm_System_Presence  \\\n",
       "0             Fire alarm system did not operate  Fire alarm system present   \n",
       "1                    Fire alarm system operated  Fire alarm system present   \n",
       "2                    Fire alarm system operated  Fire alarm system present   \n",
       "3      Fire alarm system operation undetermined               Undetermined   \n",
       "4                    Fire alarm system operated  Fire alarm system present   \n",
       "...                                         ...                        ...   \n",
       "11209                Fire alarm system operated  Fire alarm system present   \n",
       "11210                Fire alarm system operated  Fire alarm system present   \n",
       "11211                Fire alarm system operated  Fire alarm system present   \n",
       "11212                Fire alarm system operated  Fire alarm system present   \n",
       "11213         Fire alarm system did not operate  Fire alarm system present   \n",
       "\n",
       "                Smoke_Alarm_at_Fire_Origin_Alarm_Failure  \\\n",
       "0      Not applicable: Alarm operated OR presence/ope...   \n",
       "1      Not applicable: Alarm operated OR presence/ope...   \n",
       "2      Not applicable: Alarm operated OR presence/ope...   \n",
       "3      Not applicable: Alarm operated OR presence/ope...   \n",
       "4      Not applicable: Alarm operated OR presence/ope...   \n",
       "...                                                  ...   \n",
       "11209  Not applicable: Alarm operated OR presence/ope...   \n",
       "11210  Not applicable: Alarm operated OR presence/ope...   \n",
       "11211  Not applicable: Alarm operated OR presence/ope...   \n",
       "11212  Not applicable: Alarm operated OR presence/ope...   \n",
       "11213  Not applicable: Alarm operated OR presence/ope...   \n",
       "\n",
       "      Smoke_Alarm_at_Fire_Origin_Alarm_Type  \n",
       "0                    Hardwired (standalone)  \n",
       "1                            Interconnected  \n",
       "2                    Hardwired (standalone)  \n",
       "3                         Type undetermined  \n",
       "4                            Interconnected  \n",
       "...                                     ...  \n",
       "11209                Hardwired (standalone)  \n",
       "11210                        Interconnected  \n",
       "11211                        Interconnected  \n",
       "11212                      Battery operated  \n",
       "11213                     Type undetermined  \n",
       "\n",
       "[11214 rows x 7 columns]"
      ]
     },
     "execution_count": 11,
     "metadata": {},
     "output_type": "execute_result"
    }
   ],
   "source": [
    "fire_alarm_columns = ['Civilian_Casualties', 'Estimated_Dollar_Loss','Fire_Alarm_System_Impact_on_Evacuation', 'Fire_Alarm_System_Operation',\n",
    "                      'Fire_Alarm_System_Presence','Smoke_Alarm_at_Fire_Origin_Alarm_Failure', 'Smoke_Alarm_at_Fire_Origin_Alarm_Type']\n",
    "data_fire_columns = data_raw[fire_alarm_columns]\n",
    "data_fire_columns"
   ]
  },
  {
   "cell_type": "code",
   "execution_count": 12,
   "metadata": {},
   "outputs": [
    {
     "data": {
      "text/plain": [
       "array(['Not applicable: Alarm operated OR presence/operation undetermined',\n",
       "       'Reason for inoperation undetermined', 'No battery',\n",
       "       'Other reason', 'Dead battery',\n",
       "       'Remote from fire – smoke did not reach alarm',\n",
       "       'Tampered with (vandalism)', 'Unit failure',\n",
       "       'Improper installation of unit',\n",
       "       'Electrical line or battery not connected',\n",
       "       'Separated from fire (e.g. wall, etc)'], dtype=object)"
      ]
     },
     "execution_count": 12,
     "metadata": {},
     "output_type": "execute_result"
    }
   ],
   "source": [
    "data_fire_columns['Smoke_Alarm_at_Fire_Origin_Alarm_Failure'].unique()"
   ]
  },
  {
   "cell_type": "code",
   "execution_count": 13,
   "metadata": {},
   "outputs": [
    {
     "data": {
      "text/html": [
       "<style type=\"text/css\">\n",
       "#T_fce41_row0_col1 {\n",
       "  background-color: #67000d;\n",
       "  color: #f1f1f1;\n",
       "}\n",
       "#T_fce41_row1_col1 {\n",
       "  background-color: #fedccd;\n",
       "  color: #000000;\n",
       "}\n",
       "#T_fce41_row2_col1 {\n",
       "  background-color: #fee8de;\n",
       "  color: #000000;\n",
       "}\n",
       "#T_fce41_row3_col1 {\n",
       "  background-color: #fee9df;\n",
       "  color: #000000;\n",
       "}\n",
       "#T_fce41_row4_col1 {\n",
       "  background-color: #ffeee6;\n",
       "  color: #000000;\n",
       "}\n",
       "#T_fce41_row5_col1 {\n",
       "  background-color: #fff2eb;\n",
       "  color: #000000;\n",
       "}\n",
       "#T_fce41_row6_col1 {\n",
       "  background-color: #fff2ec;\n",
       "  color: #000000;\n",
       "}\n",
       "#T_fce41_row7_col1, #T_fce41_row8_col1 {\n",
       "  background-color: #fff3ed;\n",
       "  color: #000000;\n",
       "}\n",
       "#T_fce41_row9_col1, #T_fce41_row10_col1 {\n",
       "  background-color: #fff5f0;\n",
       "  color: #000000;\n",
       "}\n",
       "</style>\n",
       "<table id=\"T_fce41\">\n",
       "  <thead>\n",
       "    <tr>\n",
       "      <th class=\"blank level0\" >&nbsp;</th>\n",
       "      <th id=\"T_fce41_level0_col0\" class=\"col_heading level0 col0\" >Smoke_Alarm_at_Fire_Origin_Alarm_Failure</th>\n",
       "      <th id=\"T_fce41_level0_col1\" class=\"col_heading level0 col1\" >Count</th>\n",
       "    </tr>\n",
       "  </thead>\n",
       "  <tbody>\n",
       "    <tr>\n",
       "      <th id=\"T_fce41_level0_row0\" class=\"row_heading level0 row0\" >0</th>\n",
       "      <td id=\"T_fce41_row0_col0\" class=\"data row0 col0\" >Not applicable: Alarm operated OR presence/operation undetermined</td>\n",
       "      <td id=\"T_fce41_row0_col1\" class=\"data row0 col1\" >7770</td>\n",
       "    </tr>\n",
       "    <tr>\n",
       "      <th id=\"T_fce41_level0_row1\" class=\"row_heading level0 row1\" >1</th>\n",
       "      <td id=\"T_fce41_row1_col0\" class=\"data row1 col0\" >Remote from fire – smoke did not reach alarm</td>\n",
       "      <td id=\"T_fce41_row1_col1\" class=\"data row1 col1\" >1113</td>\n",
       "    </tr>\n",
       "    <tr>\n",
       "      <th id=\"T_fce41_level0_row2\" class=\"row_heading level0 row2\" >2</th>\n",
       "      <td id=\"T_fce41_row2_col0\" class=\"data row2 col0\" >Reason for inoperation undetermined</td>\n",
       "      <td id=\"T_fce41_row2_col1\" class=\"data row2 col1\" >618</td>\n",
       "    </tr>\n",
       "    <tr>\n",
       "      <th id=\"T_fce41_level0_row3\" class=\"row_heading level0 row3\" >3</th>\n",
       "      <td id=\"T_fce41_row3_col0\" class=\"data row3 col0\" >Other reason</td>\n",
       "      <td id=\"T_fce41_row3_col1\" class=\"data row3 col1\" >604</td>\n",
       "    </tr>\n",
       "    <tr>\n",
       "      <th id=\"T_fce41_level0_row4\" class=\"row_heading level0 row4\" >4</th>\n",
       "      <td id=\"T_fce41_row4_col0\" class=\"data row4 col0\" >Separated from fire (e.g. wall, etc)</td>\n",
       "      <td id=\"T_fce41_row4_col1\" class=\"data row4 col1\" >392</td>\n",
       "    </tr>\n",
       "    <tr>\n",
       "      <th id=\"T_fce41_level0_row5\" class=\"row_heading level0 row5\" >5</th>\n",
       "      <td id=\"T_fce41_row5_col0\" class=\"data row5 col0\" >No battery</td>\n",
       "      <td id=\"T_fce41_row5_col1\" class=\"data row5 col1\" >187</td>\n",
       "    </tr>\n",
       "    <tr>\n",
       "      <th id=\"T_fce41_level0_row6\" class=\"row_heading level0 row6\" >6</th>\n",
       "      <td id=\"T_fce41_row6_col0\" class=\"data row6 col0\" >Unit failure</td>\n",
       "      <td id=\"T_fce41_row6_col1\" class=\"data row6 col1\" >173</td>\n",
       "    </tr>\n",
       "    <tr>\n",
       "      <th id=\"T_fce41_level0_row7\" class=\"row_heading level0 row7\" >7</th>\n",
       "      <td id=\"T_fce41_row7_col0\" class=\"data row7 col0\" >Dead battery</td>\n",
       "      <td id=\"T_fce41_row7_col1\" class=\"data row7 col1\" >151</td>\n",
       "    </tr>\n",
       "    <tr>\n",
       "      <th id=\"T_fce41_level0_row8\" class=\"row_heading level0 row8\" >8</th>\n",
       "      <td id=\"T_fce41_row8_col0\" class=\"data row8 col0\" >Electrical line or battery not connected</td>\n",
       "      <td id=\"T_fce41_row8_col1\" class=\"data row8 col1\" >126</td>\n",
       "    </tr>\n",
       "    <tr>\n",
       "      <th id=\"T_fce41_level0_row9\" class=\"row_heading level0 row9\" >9</th>\n",
       "      <td id=\"T_fce41_row9_col0\" class=\"data row9 col0\" >Improper installation of unit</td>\n",
       "      <td id=\"T_fce41_row9_col1\" class=\"data row9 col1\" >45</td>\n",
       "    </tr>\n",
       "    <tr>\n",
       "      <th id=\"T_fce41_level0_row10\" class=\"row_heading level0 row10\" >10</th>\n",
       "      <td id=\"T_fce41_row10_col0\" class=\"data row10 col0\" >Tampered with (vandalism)</td>\n",
       "      <td id=\"T_fce41_row10_col1\" class=\"data row10 col1\" >35</td>\n",
       "    </tr>\n",
       "  </tbody>\n",
       "</table>\n"
      ],
      "text/plain": [
       "<pandas.io.formats.style.Styler at 0x1760036eb10>"
      ]
     },
     "execution_count": 13,
     "metadata": {},
     "output_type": "execute_result"
    }
   ],
   "source": [
    "data_fire_columns['Smoke_Alarm_at_Fire_Origin_Alarm_Failure'].value_counts()\\\n",
    "                .head(20)\\\n",
    "                .to_frame(name='Count')\\\n",
    "                .reset_index()\\\n",
    "                .style.background_gradient(cmap='Reds', subset='Count')"
   ]
  },
  {
   "cell_type": "code",
   "execution_count": 14,
   "metadata": {},
   "outputs": [
    {
     "data": {
      "image/png": "[encoded data removed]",
      "text/plain": [
       "<Figure size 1000x600 with 1 Axes>"
      ]
     },
     "metadata": {},
     "output_type": "display_data"
    }
   ],
   "source": [
    "fire_alarm = data_fire_columns.groupby('Fire_Alarm_System_Operation')['Civilian_Casualties'].sum().sort_values(ascending=False)\n",
    "\n",
    "plt.figure(figsize=(10, 6))\n",
    "sns.barplot(x=fire_alarm.index, y=fire_alarm.values, hue=fire_alarm.values, legend=False)\n",
    "plt.title('Fire Alarm vs. deaths')\n",
    "plt.xlabel('Fire_Alarm_System_Operation')\n",
    "plt.ylabel('Civilian Casualties Sum')\n",
    "plt.xticks(rotation=45)\n",
    "plt.show()"
   ]
  },
  {
   "cell_type": "code",
   "execution_count": 15,
   "metadata": {},
   "outputs": [],
   "source": [
    "selected_columns = ['Civilian_Casualties', 'Fire_Under_Control_Time']\n",
    "data_for_ts = clean_data[selected_columns]"
   ]
  },
  {
   "cell_type": "code",
   "execution_count": 16,
   "metadata": {},
   "outputs": [
    {
     "name": "stderr",
     "output_type": "stream",
     "text": [
      "C:\\Users\\kotek\\AppData\\Local\\Temp\\ipykernel_17724\\2597272862.py:1: SettingWithCopyWarning: \n",
      "A value is trying to be set on a copy of a slice from a DataFrame.\n",
      "Try using .loc[row_indexer,col_indexer] = value instead\n",
      "\n",
      "See the caveats in the documentation: https://pandas.pydata.org/pandas-docs/stable/user_guide/indexing.html#returning-a-view-versus-a-copy\n",
      "  data_for_ts['Fire_Under_Control_Time'] = data_for_ts['Fire_Under_Control_Time'].dt.to_period(\"M\").dt.to_timestamp()\n"
     ]
    }
   ],
   "source": [
    "data_for_ts['Fire_Under_Control_Time'] = data_for_ts['Fire_Under_Control_Time'].dt.to_period(\"M\").dt.to_timestamp()"
   ]
  },
  {
   "cell_type": "code",
   "execution_count": 17,
   "metadata": {},
   "outputs": [
    {
     "data": {
      "text/html": [
       "<div>\n",
       "<style scoped>\n",
       "    .dataframe tbody tr th:only-of-type {\n",
       "        vertical-align: middle;\n",
       "    }\n",
       "\n",
       "    .dataframe tbody tr th {\n",
       "        vertical-align: top;\n",
       "    }\n",
       "\n",
       "    .dataframe thead th {\n",
       "        text-align: right;\n",
       "    }\n",
       "</style>\n",
       "<table border=\"1\" class=\"dataframe\">\n",
       "  <thead>\n",
       "    <tr style=\"text-align: right;\">\n",
       "      <th></th>\n",
       "      <th>Civilian_Casualties</th>\n",
       "      <th>Fire_Under_Control_Time</th>\n",
       "    </tr>\n",
       "  </thead>\n",
       "  <tbody>\n",
       "    <tr>\n",
       "      <th>0</th>\n",
       "      <td>0</td>\n",
       "      <td>2018-08-01</td>\n",
       "    </tr>\n",
       "    <tr>\n",
       "      <th>1</th>\n",
       "      <td>0</td>\n",
       "      <td>2018-11-01</td>\n",
       "    </tr>\n",
       "    <tr>\n",
       "      <th>2</th>\n",
       "      <td>1</td>\n",
       "      <td>2017-02-01</td>\n",
       "    </tr>\n",
       "    <tr>\n",
       "      <th>3</th>\n",
       "      <td>0</td>\n",
       "      <td>2012-10-01</td>\n",
       "    </tr>\n",
       "    <tr>\n",
       "      <th>4</th>\n",
       "      <td>8</td>\n",
       "      <td>2018-07-01</td>\n",
       "    </tr>\n",
       "    <tr>\n",
       "      <th>...</th>\n",
       "      <td>...</td>\n",
       "      <td>...</td>\n",
       "    </tr>\n",
       "    <tr>\n",
       "      <th>11209</th>\n",
       "      <td>0</td>\n",
       "      <td>2018-02-01</td>\n",
       "    </tr>\n",
       "    <tr>\n",
       "      <th>11210</th>\n",
       "      <td>0</td>\n",
       "      <td>2018-02-01</td>\n",
       "    </tr>\n",
       "    <tr>\n",
       "      <th>11211</th>\n",
       "      <td>0</td>\n",
       "      <td>2018-02-01</td>\n",
       "    </tr>\n",
       "    <tr>\n",
       "      <th>11212</th>\n",
       "      <td>6</td>\n",
       "      <td>2018-02-01</td>\n",
       "    </tr>\n",
       "    <tr>\n",
       "      <th>11213</th>\n",
       "      <td>0</td>\n",
       "      <td>2018-02-01</td>\n",
       "    </tr>\n",
       "  </tbody>\n",
       "</table>\n",
       "<p>11214 rows × 2 columns</p>\n",
       "</div>"
      ],
      "text/plain": [
       "       Civilian_Casualties Fire_Under_Control_Time\n",
       "0                        0              2018-08-01\n",
       "1                        0              2018-11-01\n",
       "2                        1              2017-02-01\n",
       "3                        0              2012-10-01\n",
       "4                        8              2018-07-01\n",
       "...                    ...                     ...\n",
       "11209                    0              2018-02-01\n",
       "11210                    0              2018-02-01\n",
       "11211                    0              2018-02-01\n",
       "11212                    6              2018-02-01\n",
       "11213                    0              2018-02-01\n",
       "\n",
       "[11214 rows x 2 columns]"
      ]
     },
     "execution_count": 17,
     "metadata": {},
     "output_type": "execute_result"
    }
   ],
   "source": [
    "data_for_ts"
   ]
  },
  {
   "cell_type": "code",
   "execution_count": 18,
   "metadata": {},
   "outputs": [
    {
     "data": {
      "application/vnd.plotly.v1+json": {
       "config": {
        "plotlyServerURL": "https://plot.ly"
       },
       "data": [
        {
         "fillcolor": "white",
         "hovertemplate": "Fire_Under_Control_Time=%{x}<br>Civilian_Casualties=%{y}<extra></extra>",
         "legendgroup": "",
         "line": {
          "color": "black",
          "dash": "solid",
          "width": 3
         },
         "marker": {
          "symbol": "circle"
         },
         "mode": "lines",
         "name": "",
         "orientation": "v",
         "showlegend": false,
         "type": "scatter",
         "x": [
          "2011-01-01T00:00:00",
          "2011-02-01T00:00:00",
          "2011-03-01T00:00:00",
          "2011-04-01T00:00:00",
          "2011-05-01T00:00:00",
          "2011-06-01T00:00:00",
          "2011-07-01T00:00:00",
          "2011-08-01T00:00:00",
          "2011-09-01T00:00:00",
          "2011-10-01T00:00:00",
          "2011-11-01T00:00:00",
          "2011-12-01T00:00:00",
          "2012-01-01T00:00:00",
          "2012-02-01T00:00:00",
          "2012-03-01T00:00:00",
          "2012-04-01T00:00:00",
          "2012-05-01T00:00:00",
          "2012-06-01T00:00:00",
          "2012-07-01T00:00:00",
          "2012-08-01T00:00:00",
          "2012-09-01T00:00:00",
          "2012-10-01T00:00:00",
          "2012-11-01T00:00:00",
          "2012-12-01T00:00:00",
          "2013-01-01T00:00:00",
          "2013-02-01T00:00:00",
          "2013-03-01T00:00:00",
          "2013-04-01T00:00:00",
          "2013-05-01T00:00:00",
          "2013-06-01T00:00:00",
          "2013-07-01T00:00:00",
          "2013-08-01T00:00:00",
          "2013-09-01T00:00:00",
          "2013-10-01T00:00:00",
          "2013-11-01T00:00:00",
          "2013-12-01T00:00:00",
          "2014-01-01T00:00:00",
          "2014-02-01T00:00:00",
          "2014-03-01T00:00:00",
          "2014-04-01T00:00:00",
          "2014-05-01T00:00:00",
          "2014-06-01T00:00:00",
          "2014-07-01T00:00:00",
          "2014-08-01T00:00:00",
          "2014-09-01T00:00:00",
          "2014-10-01T00:00:00",
          "2014-11-01T00:00:00",
          "2014-12-01T00:00:00",
          "2015-01-01T00:00:00",
          "2015-02-01T00:00:00",
          "2015-03-01T00:00:00",
          "2015-04-01T00:00:00",
          "2015-05-01T00:00:00",
          "2015-06-01T00:00:00",
          "2015-07-01T00:00:00",
          "2015-08-01T00:00:00",
          "2015-09-01T00:00:00",
          "2015-10-01T00:00:00",
          "2015-11-01T00:00:00",
          "2015-12-01T00:00:00",
          "2016-01-01T00:00:00",
          "2016-02-01T00:00:00",
          "2016-03-01T00:00:00",
          "2016-04-01T00:00:00",
          "2016-05-01T00:00:00",
          "2016-06-01T00:00:00",
          "2016-07-01T00:00:00",
          "2016-08-01T00:00:00",
          "2016-09-01T00:00:00",
          "2016-10-01T00:00:00",
          "2016-11-01T00:00:00",
          "2016-12-01T00:00:00",
          "2017-01-01T00:00:00",
          "2017-02-01T00:00:00",
          "2017-03-01T00:00:00",
          "2017-04-01T00:00:00",
          "2017-05-01T00:00:00",
          "2017-06-01T00:00:00",
          "2017-07-01T00:00:00",
          "2017-08-01T00:00:00",
          "2017-09-01T00:00:00",
          "2017-10-01T00:00:00",
          "2017-11-01T00:00:00",
          "2017-12-01T00:00:00",
          "2018-01-01T00:00:00",
          "2018-02-01T00:00:00",
          "2018-03-01T00:00:00",
          "2018-04-01T00:00:00",
          "2018-05-01T00:00:00",
          "2018-06-01T00:00:00",
          "2018-07-01T00:00:00",
          "2018-08-01T00:00:00",
          "2018-09-01T00:00:00",
          "2018-10-01T00:00:00",
          "2018-11-01T00:00:00",
          "2018-12-01T00:00:00",
          "2019-01-01T00:00:00",
          "2019-02-01T00:00:00",
          "2019-03-01T00:00:00",
          "2019-04-01T00:00:00",
          "2019-05-01T00:00:00",
          "2019-06-01T00:00:00"
         ],
         "xaxis": "x",
         "y": [
          2,
          12,
          7,
          4,
          10,
          1,
          9,
          12,
          3,
          8,
          11,
          13,
          10,
          12,
          5,
          18,
          2,
          12,
          14,
          10,
          7,
          9,
          27,
          18,
          13,
          8,
          8,
          18,
          13,
          8,
          5,
          10,
          9,
          14,
          12,
          5,
          21,
          12,
          25,
          10,
          14,
          22,
          7,
          10,
          5,
          11,
          18,
          8,
          15,
          12,
          21,
          22,
          11,
          8,
          15,
          10,
          6,
          18,
          15,
          17,
          18,
          32,
          20,
          13,
          10,
          12,
          10,
          7,
          14,
          9,
          18,
          13,
          12,
          8,
          14,
          11,
          8,
          8,
          21,
          12,
          8,
          10,
          9,
          19,
          17,
          19,
          16,
          16,
          15,
          9,
          20,
          10,
          9,
          10,
          8,
          20,
          12,
          13,
          16,
          14,
          10,
          20
         ],
         "yaxis": "y"
        }
       ],
       "layout": {
        "legend": {
         "tracegroupgap": 0
        },
        "margin": {
         "t": 60
        },
        "template": {
         "data": {
          "bar": [
           {
            "error_x": {
             "color": "#2a3f5f"
            },
            "error_y": {
             "color": "#2a3f5f"
            },
            "marker": {
             "line": {
              "color": "#E5ECF6",
              "width": 0.5
             },
             "pattern": {
              "fillmode": "overlay",
              "size": 10,
              "solidity": 0.2
             }
            },
            "type": "bar"
           }
          ],
          "barpolar": [
           {
            "marker": {
             "line": {
              "color": "#E5ECF6",
              "width": 0.5
             },
             "pattern": {
              "fillmode": "overlay",
              "size": 10,
              "solidity": 0.2
             }
            },
            "type": "barpolar"
           }
          ],
          "carpet": [
           {
            "aaxis": {
             "endlinecolor": "#2a3f5f",
             "gridcolor": "white",
             "linecolor": "white",
             "minorgridcolor": "white",
             "startlinecolor": "#2a3f5f"
            },
            "baxis": {
             "endlinecolor": "#2a3f5f",
             "gridcolor": "white",
             "linecolor": "white",
             "minorgridcolor": "white",
             "startlinecolor": "#2a3f5f"
            },
            "type": "carpet"
           }
          ],
          "choropleth": [
           {
            "colorbar": {
             "outlinewidth": 0,
             "ticks": ""
            },
            "type": "choropleth"
           }
          ],
          "contour": [
           {
            "colorbar": {
             "outlinewidth": 0,
             "ticks": ""
            },
            "colorscale": [
             [
              0,
              "#0d0887"
             ],
             [
              0.1111111111111111,
              "#46039f"
             ],
             [
              0.2222222222222222,
              "#7201a8"
             ],
             [
              0.3333333333333333,
              "#9c179e"
             ],
             [
              0.4444444444444444,
              "#bd3786"
             ],
             [
              0.5555555555555556,
              "#d8576b"
             ],
             [
              0.6666666666666666,
              "#ed7953"
             ],
             [
              0.7777777777777778,
              "#fb9f3a"
             ],
             [
              0.8888888888888888,
              "#fdca26"
             ],
             [
              1,
              "#f0f921"
             ]
            ],
            "type": "contour"
           }
          ],
          "contourcarpet": [
           {
            "colorbar": {
             "outlinewidth": 0,
             "ticks": ""
            },
            "type": "contourcarpet"
           }
          ],
          "heatmap": [
           {
            "colorbar": {
             "outlinewidth": 0,
             "ticks": ""
            },
            "colorscale": [
             [
              0,
              "#0d0887"
             ],
             [
              0.1111111111111111,
              "#46039f"
             ],
             [
              0.2222222222222222,
              "#7201a8"
             ],
             [
              0.3333333333333333,
              "#9c179e"
             ],
             [
              0.4444444444444444,
              "#bd3786"
             ],
             [
              0.5555555555555556,
              "#d8576b"
             ],
             [
              0.6666666666666666,
              "#ed7953"
             ],
             [
              0.7777777777777778,
              "#fb9f3a"
             ],
             [
              0.8888888888888888,
              "#fdca26"
             ],
             [
              1,
              "#f0f921"
             ]
            ],
            "type": "heatmap"
           }
          ],
          "heatmapgl": [
           {
            "colorbar": {
             "outlinewidth": 0,
             "ticks": ""
            },
            "colorscale": [
             [
              0,
              "#0d0887"
             ],
             [
              0.1111111111111111,
              "#46039f"
             ],
             [
              0.2222222222222222,
              "#7201a8"
             ],
             [
              0.3333333333333333,
              "#9c179e"
             ],
             [
              0.4444444444444444,
              "#bd3786"
             ],
             [
              0.5555555555555556,
              "#d8576b"
             ],
             [
              0.6666666666666666,
              "#ed7953"
             ],
             [
              0.7777777777777778,
              "#fb9f3a"
             ],
             [
              0.8888888888888888,
              "#fdca26"
             ],
             [
              1,
              "#f0f921"
             ]
            ],
            "type": "heatmapgl"
           }
          ],
          "histogram": [
           {
            "marker": {
             "pattern": {
              "fillmode": "overlay",
              "size": 10,
              "solidity": 0.2
             }
            },
            "type": "histogram"
           }
          ],
          "histogram2d": [
           {
            "colorbar": {
             "outlinewidth": 0,
             "ticks": ""
            },
            "colorscale": [
             [
              0,
              "#0d0887"
             ],
             [
              0.1111111111111111,
              "#46039f"
             ],
             [
              0.2222222222222222,
              "#7201a8"
             ],
             [
              0.3333333333333333,
              "#9c179e"
             ],
             [
              0.4444444444444444,
              "#bd3786"
             ],
             [
              0.5555555555555556,
              "#d8576b"
             ],
             [
              0.6666666666666666,
              "#ed7953"
             ],
             [
              0.7777777777777778,
              "#fb9f3a"
             ],
             [
              0.8888888888888888,
              "#fdca26"
             ],
             [
              1,
              "#f0f921"
             ]
            ],
            "type": "histogram2d"
           }
          ],
          "histogram2dcontour": [
           {
            "colorbar": {
             "outlinewidth": 0,
             "ticks": ""
            },
            "colorscale": [
             [
              0,
              "#0d0887"
             ],
             [
              0.1111111111111111,
              "#46039f"
             ],
             [
              0.2222222222222222,
              "#7201a8"
             ],
             [
              0.3333333333333333,
              "#9c179e"
             ],
             [
              0.4444444444444444,
              "#bd3786"
             ],
             [
              0.5555555555555556,
              "#d8576b"
             ],
             [
              0.6666666666666666,
              "#ed7953"
             ],
             [
              0.7777777777777778,
              "#fb9f3a"
             ],
             [
              0.8888888888888888,
              "#fdca26"
             ],
             [
              1,
              "#f0f921"
             ]
            ],
            "type": "histogram2dcontour"
           }
          ],
          "mesh3d": [
           {
            "colorbar": {
             "outlinewidth": 0,
             "ticks": ""
            },
            "type": "mesh3d"
           }
          ],
          "parcoords": [
           {
            "line": {
             "colorbar": {
              "outlinewidth": 0,
              "ticks": ""
             }
            },
            "type": "parcoords"
           }
          ],
          "pie": [
           {
            "automargin": true,
            "type": "pie"
           }
          ],
          "scatter": [
           {
            "fillpattern": {
             "fillmode": "overlay",
             "size": 10,
             "solidity": 0.2
            },
            "type": "scatter"
           }
          ],
          "scatter3d": [
           {
            "line": {
             "colorbar": {
              "outlinewidth": 0,
              "ticks": ""
             }
            },
            "marker": {
             "colorbar": {
              "outlinewidth": 0,
              "ticks": ""
             }
            },
            "type": "scatter3d"
           }
          ],
          "scattercarpet": [
           {
            "marker": {
             "colorbar": {
              "outlinewidth": 0,
              "ticks": ""
             }
            },
            "type": "scattercarpet"
           }
          ],
          "scattergeo": [
           {
            "marker": {
             "colorbar": {
              "outlinewidth": 0,
              "ticks": ""
             }
            },
            "type": "scattergeo"
           }
          ],
          "scattergl": [
           {
            "marker": {
             "colorbar": {
              "outlinewidth": 0,
              "ticks": ""
             }
            },
            "type": "scattergl"
           }
          ],
          "scattermapbox": [
           {
            "marker": {
             "colorbar": {
              "outlinewidth": 0,
              "ticks": ""
             }
            },
            "type": "scattermapbox"
           }
          ],
          "scatterpolar": [
           {
            "marker": {
             "colorbar": {
              "outlinewidth": 0,
              "ticks": ""
             }
            },
            "type": "scatterpolar"
           }
          ],
          "scatterpolargl": [
           {
            "marker": {
             "colorbar": {
              "outlinewidth": 0,
              "ticks": ""
             }
            },
            "type": "scatterpolargl"
           }
          ],
          "scatterternary": [
           {
            "marker": {
             "colorbar": {
              "outlinewidth": 0,
              "ticks": ""
             }
            },
            "type": "scatterternary"
           }
          ],
          "surface": [
           {
            "colorbar": {
             "outlinewidth": 0,
             "ticks": ""
            },
            "colorscale": [
             [
              0,
              "#0d0887"
             ],
             [
              0.1111111111111111,
              "#46039f"
             ],
             [
              0.2222222222222222,
              "#7201a8"
             ],
             [
              0.3333333333333333,
              "#9c179e"
             ],
             [
              0.4444444444444444,
              "#bd3786"
             ],
             [
              0.5555555555555556,
              "#d8576b"
             ],
             [
              0.6666666666666666,
              "#ed7953"
             ],
             [
              0.7777777777777778,
              "#fb9f3a"
             ],
             [
              0.8888888888888888,
              "#fdca26"
             ],
             [
              1,
              "#f0f921"
             ]
            ],
            "type": "surface"
           }
          ],
          "table": [
           {
            "cells": {
             "fill": {
              "color": "#EBF0F8"
             },
             "line": {
              "color": "white"
             }
            },
            "header": {
             "fill": {
              "color": "#C8D4E3"
             },
             "line": {
              "color": "white"
             }
            },
            "type": "table"
           }
          ]
         },
         "layout": {
          "annotationdefaults": {
           "arrowcolor": "#2a3f5f",
           "arrowhead": 0,
           "arrowwidth": 1
          },
          "autotypenumbers": "strict",
          "coloraxis": {
           "colorbar": {
            "outlinewidth": 0,
            "ticks": ""
           }
          },
          "colorscale": {
           "diverging": [
            [
             0,
             "#8e0152"
            ],
            [
             0.1,
             "#c51b7d"
            ],
            [
             0.2,
             "#de77ae"
            ],
            [
             0.3,
             "#f1b6da"
            ],
            [
             0.4,
             "#fde0ef"
            ],
            [
             0.5,
             "#f7f7f7"
            ],
            [
             0.6,
             "#e6f5d0"
            ],
            [
             0.7,
             "#b8e186"
            ],
            [
             0.8,
             "#7fbc41"
            ],
            [
             0.9,
             "#4d9221"
            ],
            [
             1,
             "#276419"
            ]
           ],
           "sequential": [
            [
             0,
             "#0d0887"
            ],
            [
             0.1111111111111111,
             "#46039f"
            ],
            [
             0.2222222222222222,
             "#7201a8"
            ],
            [
             0.3333333333333333,
             "#9c179e"
            ],
            [
             0.4444444444444444,
             "#bd3786"
            ],
            [
             0.5555555555555556,
             "#d8576b"
            ],
            [
             0.6666666666666666,
             "#ed7953"
            ],
            [
             0.7777777777777778,
             "#fb9f3a"
            ],
            [
             0.8888888888888888,
             "#fdca26"
            ],
            [
             1,
             "#f0f921"
            ]
           ],
           "sequentialminus": [
            [
             0,
             "#0d0887"
            ],
            [
             0.1111111111111111,
             "#46039f"
            ],
            [
             0.2222222222222222,
             "#7201a8"
            ],
            [
             0.3333333333333333,
             "#9c179e"
            ],
            [
             0.4444444444444444,
             "#bd3786"
            ],
            [
             0.5555555555555556,
             "#d8576b"
            ],
            [
             0.6666666666666666,
             "#ed7953"
            ],
            [
             0.7777777777777778,
             "#fb9f3a"
            ],
            [
             0.8888888888888888,
             "#fdca26"
            ],
            [
             1,
             "#f0f921"
            ]
           ]
          },
          "colorway": [
           "#636efa",
           "#EF553B",
           "#00cc96",
           "#ab63fa",
           "#FFA15A",
           "#19d3f3",
           "#FF6692",
           "#B6E880",
           "#FF97FF",
           "#FECB52"
          ],
          "font": {
           "color": "#2a3f5f"
          },
          "geo": {
           "bgcolor": "white",
           "lakecolor": "white",
           "landcolor": "#E5ECF6",
           "showlakes": true,
           "showland": true,
           "subunitcolor": "white"
          },
          "hoverlabel": {
           "align": "left"
          },
          "hovermode": "closest",
          "mapbox": {
           "style": "light"
          },
          "paper_bgcolor": "white",
          "plot_bgcolor": "#E5ECF6",
          "polar": {
           "angularaxis": {
            "gridcolor": "white",
            "linecolor": "white",
            "ticks": ""
           },
           "bgcolor": "#E5ECF6",
           "radialaxis": {
            "gridcolor": "white",
            "linecolor": "white",
            "ticks": ""
           }
          },
          "scene": {
           "xaxis": {
            "backgroundcolor": "#E5ECF6",
            "gridcolor": "white",
            "gridwidth": 2,
            "linecolor": "white",
            "showbackground": true,
            "ticks": "",
            "zerolinecolor": "white"
           },
           "yaxis": {
            "backgroundcolor": "#E5ECF6",
            "gridcolor": "white",
            "gridwidth": 2,
            "linecolor": "white",
            "showbackground": true,
            "ticks": "",
            "zerolinecolor": "white"
           },
           "zaxis": {
            "backgroundcolor": "#E5ECF6",
            "gridcolor": "white",
            "gridwidth": 2,
            "linecolor": "white",
            "showbackground": true,
            "ticks": "",
            "zerolinecolor": "white"
           }
          },
          "shapedefaults": {
           "line": {
            "color": "#2a3f5f"
           }
          },
          "ternary": {
           "aaxis": {
            "gridcolor": "white",
            "linecolor": "white",
            "ticks": ""
           },
           "baxis": {
            "gridcolor": "white",
            "linecolor": "white",
            "ticks": ""
           },
           "bgcolor": "#E5ECF6",
           "caxis": {
            "gridcolor": "white",
            "linecolor": "white",
            "ticks": ""
           }
          },
          "title": {
           "x": 0.05
          },
          "xaxis": {
           "automargin": true,
           "gridcolor": "white",
           "linecolor": "white",
           "ticks": "",
           "title": {
            "standoff": 15
           },
           "zerolinecolor": "white",
           "zerolinewidth": 2
          },
          "yaxis": {
           "automargin": true,
           "gridcolor": "white",
           "linecolor": "white",
           "ticks": "",
           "title": {
            "standoff": 15
           },
           "zerolinecolor": "white",
           "zerolinewidth": 2
          }
         }
        },
        "xaxis": {
         "anchor": "y",
         "domain": [
          0,
          1
         ],
         "title": {
          "text": "Fire_Under_Control_Time"
         }
        },
        "yaxis": {
         "anchor": "x",
         "domain": [
          0,
          1
         ],
         "title": {
          "text": "Civilian_Casualties"
         }
        }
       }
      }
     },
     "metadata": {},
     "output_type": "display_data"
    }
   ],
   "source": [
    "import plotly.express as px\n",
    "\n",
    "sum_casualties = data_for_ts.groupby('Fire_Under_Control_Time')['Civilian_Casualties'].sum().reset_index()\n",
    "\n",
    "# plotly express do utworzenia wykresu czasowego\n",
    "fig = px.line(sum_casualties, x = \"Fire_Under_Control_Time\", y = \"Civilian_Casualties\")\n",
    "\n",
    "fig.update_traces(line_color='black', line_width = 3, fillcolor = 'white')\n",
    "fig.show()"
   ]
  }
 ],
 "metadata": {
  "kernelspec": {
   "display_name": "Python_intro",
   "language": "python",
   "name": "python3"
  },
  "language_info": {
   "codemirror_mode": {
    "name": "ipython",
    "version": 3
   },
   "file_extension": ".py",
   "mimetype": "text/x-python",
   "name": "python",
   "nbconvert_exporter": "python",
   "pygments_lexer": "ipython3",
   "version": "3.12.0"
  }
 },
 "nbformat": 4,
 "nbformat_minor": 2
}
